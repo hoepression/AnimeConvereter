{
 "cells": [
  {
   "cell_type": "code",
   "execution_count": 2,
   "id": "20ae18c9-a791-42b3-a04e-4b015959572d",
   "metadata": {},
   "outputs": [
    {
     "name": "stdout",
     "output_type": "stream",
     "text": [
      "Collecting pymupdf\n",
      "  Downloading pymupdf-1.26.0-cp39-abi3-win_amd64.whl.metadata (3.4 kB)\n",
      "Downloading pymupdf-1.26.0-cp39-abi3-win_amd64.whl (18.5 MB)\n",
      "   ---------------------------------------- 0.0/18.5 MB ? eta -:--:--\n",
      "   -- ------------------------------------- 1.3/18.5 MB 8.4 MB/s eta 0:00:03\n",
      "   ----- ---------------------------------- 2.6/18.5 MB 7.6 MB/s eta 0:00:03\n",
      "   --------- ------------------------------ 4.2/18.5 MB 7.2 MB/s eta 0:00:02\n",
      "   ------------ --------------------------- 5.8/18.5 MB 7.2 MB/s eta 0:00:02\n",
      "   --------------- ------------------------ 7.1/18.5 MB 7.2 MB/s eta 0:00:02\n",
      "   ------------------ --------------------- 8.7/18.5 MB 7.0 MB/s eta 0:00:02\n",
      "   ---------------------- ----------------- 10.2/18.5 MB 7.0 MB/s eta 0:00:02\n",
      "   ------------------------ --------------- 11.5/18.5 MB 7.0 MB/s eta 0:00:01\n",
      "   ---------------------------- ----------- 13.1/18.5 MB 7.0 MB/s eta 0:00:01\n",
      "   ------------------------------- -------- 14.7/18.5 MB 7.0 MB/s eta 0:00:01\n",
      "   ----------------------------------- ---- 16.3/18.5 MB 7.0 MB/s eta 0:00:01\n",
      "   ------------------------------------- -- 17.6/18.5 MB 7.0 MB/s eta 0:00:01\n",
      "   ---------------------------------------- 18.5/18.5 MB 6.8 MB/s eta 0:00:00\n",
      "Installing collected packages: pymupdf\n",
      "Successfully installed pymupdf-1.26.0\n"
     ]
    }
   ],
   "source": [
    "!pip install pymupdf\n"
   ]
  },
  {
   "cell_type": "code",
   "execution_count": 3,
   "id": "e5596482-041b-4c36-9445-20a529014f6c",
   "metadata": {},
   "outputs": [
    {
     "name": "stdout",
     "output_type": "stream",
     "text": [
      "✅ PyMuPDF is installed and working!\n"
     ]
    }
   ],
   "source": [
    "import fitz  # PyMuPDF\n",
    "print(\"✅ PyMuPDF is installed and working!\")"
   ]
  },
  {
   "cell_type": "code",
   "execution_count": 4,
   "id": "9583b8b3-45f9-444e-8c7a-fb6bdb416173",
   "metadata": {},
   "outputs": [],
   "source": [
    "import fitz  # This is PyMuPDF\n",
    "from PIL import Image\n",
    "import os\n"
   ]
  },
  {
   "cell_type": "code",
   "execution_count": 5,
   "id": "7bfae42b-01d5-4716-8b22-0005f3de2fcb",
   "metadata": {},
   "outputs": [],
   "source": [
    "output_dir = \"extracted_pages\"\n",
    "os.makedirs(output_dir, exist_ok=True)\n"
   ]
  },
  {
   "cell_type": "code",
   "execution_count": 6,
   "id": "58ecd379-8a2c-4b7a-8cfb-8d5918f3fe91",
   "metadata": {},
   "outputs": [
    {
     "name": "stdout",
     "output_type": "stream",
     "text": [
      "Total Pages: 58\n",
      "✅ Saved extracted_pages\\page_001.png\n",
      "✅ Saved extracted_pages\\page_002.png\n",
      "✅ Saved extracted_pages\\page_003.png\n",
      "✅ Saved extracted_pages\\page_004.png\n",
      "✅ Saved extracted_pages\\page_005.png\n",
      "✅ Saved extracted_pages\\page_006.png\n",
      "✅ Saved extracted_pages\\page_007.png\n",
      "✅ Saved extracted_pages\\page_008.png\n",
      "✅ Saved extracted_pages\\page_009.png\n",
      "✅ Saved extracted_pages\\page_010.png\n",
      "✅ Saved extracted_pages\\page_011.png\n",
      "✅ Saved extracted_pages\\page_012.png\n",
      "✅ Saved extracted_pages\\page_013.png\n",
      "✅ Saved extracted_pages\\page_014.png\n",
      "✅ Saved extracted_pages\\page_015.png\n",
      "✅ Saved extracted_pages\\page_016.png\n",
      "✅ Saved extracted_pages\\page_017.png\n",
      "✅ Saved extracted_pages\\page_018.png\n",
      "✅ Saved extracted_pages\\page_019.png\n",
      "✅ Saved extracted_pages\\page_020.png\n",
      "✅ Saved extracted_pages\\page_021.png\n",
      "✅ Saved extracted_pages\\page_022.png\n",
      "✅ Saved extracted_pages\\page_023.png\n",
      "✅ Saved extracted_pages\\page_024.png\n",
      "✅ Saved extracted_pages\\page_025.png\n",
      "✅ Saved extracted_pages\\page_026.png\n",
      "✅ Saved extracted_pages\\page_027.png\n",
      "✅ Saved extracted_pages\\page_028.png\n",
      "✅ Saved extracted_pages\\page_029.png\n",
      "✅ Saved extracted_pages\\page_030.png\n",
      "✅ Saved extracted_pages\\page_031.png\n",
      "✅ Saved extracted_pages\\page_032.png\n",
      "✅ Saved extracted_pages\\page_033.png\n",
      "✅ Saved extracted_pages\\page_034.png\n",
      "✅ Saved extracted_pages\\page_035.png\n",
      "✅ Saved extracted_pages\\page_036.png\n",
      "✅ Saved extracted_pages\\page_037.png\n",
      "✅ Saved extracted_pages\\page_038.png\n",
      "✅ Saved extracted_pages\\page_039.png\n",
      "✅ Saved extracted_pages\\page_040.png\n",
      "✅ Saved extracted_pages\\page_041.png\n",
      "✅ Saved extracted_pages\\page_042.png\n",
      "✅ Saved extracted_pages\\page_043.png\n",
      "✅ Saved extracted_pages\\page_044.png\n",
      "✅ Saved extracted_pages\\page_045.png\n",
      "✅ Saved extracted_pages\\page_046.png\n",
      "✅ Saved extracted_pages\\page_047.png\n",
      "✅ Saved extracted_pages\\page_048.png\n",
      "✅ Saved extracted_pages\\page_049.png\n",
      "✅ Saved extracted_pages\\page_050.png\n",
      "✅ Saved extracted_pages\\page_051.png\n",
      "✅ Saved extracted_pages\\page_052.png\n",
      "✅ Saved extracted_pages\\page_053.png\n",
      "✅ Saved extracted_pages\\page_054.png\n",
      "✅ Saved extracted_pages\\page_055.png\n",
      "✅ Saved extracted_pages\\page_056.png\n",
      "✅ Saved extracted_pages\\page_057.png\n",
      "✅ Saved extracted_pages\\page_058.png\n"
     ]
    }
   ],
   "source": [
    "pdf_path = \"manga.pdf\"  # Replace with your actual file name\n",
    "\n",
    "doc = fitz.open(pdf_path)\n",
    "print(f\"Total Pages: {len(doc)}\")\n",
    "\n",
    "# Set zoom level for high resolution (2.0 = 144 DPI, 3.0 = 216 DPI)\n",
    "zoom_x = 2.0\n",
    "zoom_y = 2.0\n",
    "mat = fitz.Matrix(zoom_x, zoom_y)\n",
    "\n",
    "for page_num in range(len(doc)):\n",
    "    page = doc.load_page(page_num)  # 0-based indexing\n",
    "    pix = page.get_pixmap(matrix=mat)\n",
    "    output_path = os.path.join(output_dir, f\"page_{page_num+1:03}.png\")\n",
    "    pix.save(output_path)\n",
    "    print(f\"✅ Saved {output_path}\")\n"
   ]
  },
  {
   "cell_type": "code",
   "execution_count": null,
   "id": "c6a01171-9429-4d48-aa6c-4b3aa51cc1ee",
   "metadata": {},
   "outputs": [],
   "source": []
  }
 ],
 "metadata": {
  "kernelspec": {
   "display_name": "Python 3 (ipykernel)",
   "language": "python",
   "name": "python3"
  },
  "language_info": {
   "codemirror_mode": {
    "name": "ipython",
    "version": 3
   },
   "file_extension": ".py",
   "mimetype": "text/x-python",
   "name": "python",
   "nbconvert_exporter": "python",
   "pygments_lexer": "ipython3",
   "version": "3.12.7"
  }
 },
 "nbformat": 4,
 "nbformat_minor": 5
}
