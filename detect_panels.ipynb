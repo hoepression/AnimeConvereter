{
 "cells": [
  {
   "cell_type": "code",
   "execution_count": null,
   "id": "c0fcf7b9-3b9d-41e4-bc2b-6c0adec58f02",
   "metadata": {},
   "outputs": [],
   "source": [
    "#Automatically detect individual manga panels on each page (so that text can be translated panel-by-panel, preserving reading flow)"
   ]
  },
  {
   "cell_type": "code",
   "execution_count": 4,
   "id": "928f4e60-f839-48bd-82a8-68ca5c00b293",
   "metadata": {},
   "outputs": [
    {
     "name": "stderr",
     "output_type": "stream",
     "text": [
      "D:\\jupy\\python.exe: No module named labelImg\n"
     ]
    }
   ],
   "source": [
    "!python -m labelImg\n",
    "\n"
   ]
  },
  {
   "cell_type": "code",
   "execution_count": null,
   "id": "03dcac3f-a0a9-4654-a9bf-3cba107fb477",
   "metadata": {},
   "outputs": [],
   "source": []
  }
 ],
 "metadata": {
  "kernelspec": {
   "display_name": "Python 3 (ipykernel)",
   "language": "python",
   "name": "python3"
  },
  "language_info": {
   "codemirror_mode": {
    "name": "ipython",
    "version": 3
   },
   "file_extension": ".py",
   "mimetype": "text/x-python",
   "name": "python",
   "nbconvert_exporter": "python",
   "pygments_lexer": "ipython3",
   "version": "3.12.7"
  }
 },
 "nbformat": 4,
 "nbformat_minor": 5
}
